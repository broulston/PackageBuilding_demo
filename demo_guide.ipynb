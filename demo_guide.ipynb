{
 "cells": [
  {
   "cell_type": "markdown",
   "metadata": {},
   "source": [
    "# Package Building Demo\n",
    "Author: [Benjamin Roulston](http://benjaminroulston.com)\n",
    "Last Updated: 12 May 2020"
   ]
  },
  {
   "cell_type": "markdown",
   "metadata": {},
   "source": [
    "## Introduction to Packages"
   ]
  },
  {
   "cell_type": "markdown",
   "metadata": {},
   "source": [
    "<div class=\"alert alert-block alert-warning\"><b>Notice:</b> Please run the code in the cell below before we begin. This code allows python to reload packages as they are run. This is useful when working on making a package because python by default only loads a package once. So if you made changes, you'd need to exit python. This magic function allows the packages to be reloaded each time they are run. </div>"
   ]
  },
  {
   "cell_type": "code",
   "execution_count": 1,
   "metadata": {},
   "outputs": [],
   "source": [
    "%load_ext autoreload\n",
    "%autoreload 2"
   ]
  },
  {
   "cell_type": "markdown",
   "metadata": {},
   "source": [
    "In this demo we will work on building an example package in Python. Packages are a vital part of making your code reusable by yourself and others. They help in organizing scripts, functions, and classes that you've made into one coherent grouping."
   ]
  },
  {
   "cell_type": "markdown",
   "metadata": {},
   "source": [
    "Over the course of these workshops you've been using packages the entire time. A few that you have been using would be the `numpy` and `astropy` packages. There are many many packages available for Python, and generally a internet search will find what you need."
   ]
  },
  {
   "cell_type": "markdown",
   "metadata": {},
   "source": [
    "In Python, a package is a collection of files (called modules) that make up a grouping of similar features, such as functions or classes. Using the `numpy` example, this package is a grouping of modules that contain functions, classes, and other tools to work with arrays in a fast and efficient way. `astropy` is a grouping of modules that are for use in scientific astronomy. "
   ]
  },
  {
   "cell_type": "markdown",
   "metadata": {},
   "source": [
    "Python packages can contain sub-packages, which can contain further sub-packages. Think of these as folders (or directories) on a computers file system. The package is the top folder, and each sub-package would be a folder down a level. This sub-package would contain on kind of specific type of functions and modules that connects back to the theme of the main package. \n",
    "\n",
    "For example, `astropy` has a sub-package called `io` that as a module named `fits`. This can be imported as the following:\n",
    "\n",
    "\n",
    "``` python\n",
    "from astropy.io import fits\n",
    "```"
   ]
  },
  {
   "cell_type": "markdown",
   "metadata": {},
   "source": [
    "Python uses this `dot` notation to link packages with sub-packages with modules. `Dot` notation means that you use a dot in the import to import things in lower sub-packages and then from modules. Think of this like moving down in the folder levels."
   ]
  },
  {
   "cell_type": "markdown",
   "metadata": {},
   "source": [
    "Python has a few different kinds of import abilities. \n",
    "\n",
    "Direct import:\n",
    "``` python\n",
    "import numpy\n",
    "```\n",
    "\n",
    "Direct import with an alias:\n",
    "``` python\n",
    "import numpy as np\n",
    "```\n",
    "\n",
    "Direct import of a sub-package (with optional alias)\n",
    "``` python\n",
    "import numpy.random\n",
    "import numpy.random as random\n",
    "```\n",
    "These are called as `x = numpy.random.rand()` and `x = random.rand()` respectively. \n",
    "\n",
    "Direct import of a module from a sub-package (with optional alias)\n",
    "``` python\n",
    "import numpy.random\n",
    "import numpy.random as random\n",
    "```"
   ]
  },
  {
   "cell_type": "markdown",
   "metadata": {},
   "source": [
    "## Creating our Own Packages"
   ]
  },
  {
   "cell_type": "markdown",
   "metadata": {},
   "source": [
    "We can create our own packages in Python quite easily. In this workshop we will build a package together. Because of time limitations, we will build a simple package to just demonstrate the concept of package building. \n",
    "\n",
    "Our demo package will be based on a farm, and we will call our package `farm`. This package will have sub-packages to deal with the farm animals, and the farm buildings. These sub-packages will allow us to create farm animals such as cows, horses, farm pets like cats and dogs as well as farm buildings like a barn. "
   ]
  },
  {
   "cell_type": "markdown",
   "metadata": {},
   "source": [
    "Before we used folders as a way to think about packages and sub-packages. In truth this is actually exactly how packages are made!\n",
    "\n",
    "A package is simply a folder with all the Python files needed inside of it. But in order for Python to know a folder is a package, we need to tell it by using a special file.\n",
    "\n",
    "<div class=\"alert alert-block alert-success\"><b>__init__.py:</b> This special Python file tells Python that the folder it resides in is a Python package.</div>\n",
    "\n",
    "The `__init__.py` file is placed inside of a folder to make it a package. This file can be blank, but usually has code that tells Python what to do when the package is imported. \n",
    "\n",
    "The general layout of a package (in this case the one we want to build) looks something along these lines:\n",
    "\n",
    "```\n",
    "package/\n",
    "    __init__.py\n",
    "    some_code.py\n",
    "    sub-package1/\n",
    "        __init__.py\n",
    "        more_code.py\n",
    "    sub-package2/\n",
    "        __init__.py\n",
    "        more_more_code.py\n",
    "```\n",
    "\n",
    "so for us and our `farm` package might look something like this:\n",
    "\n",
    "```\n",
    "farm/\n",
    "    __init__.py\n",
    "    main.py\n",
    "    animals/\n",
    "        __init__.py\n",
    "        barnanimals.py\n",
    "        pets.py\n",
    "    buildings/\n",
    "        __init__.py\n",
    "        barn.py\n",
    "        house.py\n",
    "```"
   ]
  },
  {
   "cell_type": "markdown",
   "metadata": {},
   "source": [
    "#### making the main `__init__.py` file\n",
    "In your JupyterLab session, go to the File Browser. Use the File Browser to create a new folder and name it `farm`. Double click this folder to enter it. This is where we will make all the package files and folders.\n",
    "\n",
    "In this folder, create a new file named `__init__.py` and open it to edit.\n",
    "\n",
    "We can then add these lines, replacing values with your own:\n",
    "```python\n",
    "__author__ = \"\"\"Benjamin Richard Roulston\"\"\"\n",
    "__email__ = 'broulston@cfa.harvard.edu'\n",
    "__version__ = '0.1.0'\n",
    "```\n",
    "\n",
    "You can add other information that you think is valuable or needed for your package. This `__init__.py` file tells Python that the `farm` folder is a package and we can now import it and check what attributes it has!"
   ]
  },
  {
   "cell_type": "code",
   "execution_count": 20,
   "metadata": {},
   "outputs": [
    {
     "name": "stdout",
     "output_type": "stream",
     "text": [
      "['__author__', '__builtins__', '__cached__', '__doc__', '__email__', '__file__', '__loader__', '__name__', '__package__', '__path__', '__spec__', '__version__']\n",
      "Benjamin Richard Roulston\n",
      "broulston@cfa.harvard.edu\n",
      "0.1.0\n"
     ]
    }
   ],
   "source": [
    "import farm\n",
    "\n",
    "package_attributes = dir(farm)\n",
    "print(package_attributes)\n",
    "\n",
    "print(farm.__author__)\n",
    "print(farm.__email__)\n",
    "print(farm.__version__)"
   ]
  },
  {
   "cell_type": "markdown",
   "metadata": {},
   "source": [
    "#### Making our sub-packages\n",
    "\n",
    "Now, we can create our sub-packages! Lets make the `animals` sub-package first. To do this we do the same thing when we made the main package. We create a new folder inside of `farm` and name it `animals`. Enter this sub-package and create another `__init__.py`. No we also make two other Python files, `pets.py` and `barnanimals.py`.\n",
    "\n",
    "Open all three of these files so that we can edit them.\n",
    "\n",
    "In the `__init__.py` file, we need to put some import statements. Remmeber that the `__init__.py` file is what it told to Python when we import that package or sub-package. So, when we do something like \n",
    "```python\n",
    "import farm.animals\n",
    "```\n",
    "it also imports the code found in the modules inside our sub-package.\n",
    "\n",
    "So we add the following to the `__init__.py` file:\n",
    "```python\n",
    "from .pets import *\n",
    "from .barnanimals import *\n",
    "```\n",
    "This format tells Python that when we import the `farm.animals` sub-package to import all from the modules `pets` and `barnanimals`.\n",
    "\n",
    "We also need to tell Python that when we import the `farm` module what sub-packages to import as well. We do this by add the following to the `__init__.py` file in the top package folder:\n",
    "```python\n",
    "from . import animals\n",
    "```\n",
    "\n",
    "We can now start making the functions and classes that are in our package!\n",
    "\n",
    "We can do the same with the `buildings` sub-package as well."
   ]
  },
  {
   "cell_type": "code",
   "execution_count": null,
   "metadata": {},
   "outputs": [],
   "source": []
  }
 ],
 "metadata": {
  "kernelspec": {
   "display_name": "Python 3",
   "language": "python",
   "name": "python3"
  },
  "language_info": {
   "codemirror_mode": {
    "name": "ipython",
    "version": 3
   },
   "file_extension": ".py",
   "mimetype": "text/x-python",
   "name": "python",
   "nbconvert_exporter": "python",
   "pygments_lexer": "ipython3",
   "version": "3.7.6"
  }
 },
 "nbformat": 4,
 "nbformat_minor": 4
}
